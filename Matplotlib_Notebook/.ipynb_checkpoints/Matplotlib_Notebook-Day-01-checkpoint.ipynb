{
 "cells": [
  {
   "cell_type": "markdown",
   "metadata": {},
   "source": [
    "#  Instructor Turn - 01- Basic Line Graphs - 👩‍🏫🧑‍🏫"
   ]
  },
  {
   "cell_type": "markdown",
   "metadata": {},
   "source": [
    "# Exponential"
   ]
  },
  {
   "cell_type": "code",
   "execution_count": null,
   "metadata": {},
   "outputs": [],
   "source": [
    "# Import Numpy for calculations and matplotlib for charting\n",
    "import numpy as np\n",
    "import matplotlib.pyplot as plt"
   ]
  },
  {
   "cell_type": "code",
   "execution_count": null,
   "metadata": {},
   "outputs": [],
   "source": [
    "# Creates a list from 0 to 5 with each step being 0.1 higher than the last\n",
    "x_axis = np.arange(0, 5, 0.1)\n",
    "x_axis"
   ]
  },
  {
   "cell_type": "code",
   "execution_count": null,
   "metadata": {},
   "outputs": [],
   "source": [
    "# Creates an exponential series of values which we can then chart\n",
    "e_x = [np.exp(x) for x in x_axis]\n",
    "e_x"
   ]
  },
  {
   "cell_type": "code",
   "execution_count": null,
   "metadata": {},
   "outputs": [],
   "source": [
    "# Create a graph based upon the two lists we have created\n",
    "plt.plot(x_axis, e_x)"
   ]
  },
  {
   "cell_type": "code",
   "execution_count": null,
   "metadata": {},
   "outputs": [],
   "source": [
    "# Show the graph that we have created\n",
    "plt.show()"
   ]
  },
  {
   "cell_type": "code",
   "execution_count": null,
   "metadata": {},
   "outputs": [],
   "source": [
    "# Give our graph axis labels\n",
    "plt.xlabel(\"Time With MatPlotLib\")\n",
    "plt.ylabel(\"How Cool MatPlotLib Seems\")\n",
    "\n",
    "# Have to plot our chart once again as it doesn't stick after being shown\n",
    "plt.plot(x_axis, e_x)\n",
    "plt.show()"
   ]
  },
  {
   "cell_type": "markdown",
   "metadata": {},
   "source": [
    "# Sin Cos "
   ]
  },
  {
   "cell_type": "code",
   "execution_count": null,
   "metadata": {},
   "outputs": [],
   "source": [
    "# Import Numpy for calculations and matplotlib for charting\n",
    "import numpy as np\n",
    "import matplotlib.pyplot as plt"
   ]
  },
  {
   "cell_type": "code",
   "execution_count": null,
   "metadata": {},
   "outputs": [],
   "source": [
    "# Create our x_axis list\n",
    "x_axis = np.arange(0, 6, 0.1)"
   ]
  },
  {
   "cell_type": "code",
   "execution_count": null,
   "metadata": {},
   "outputs": [],
   "source": [
    "# Creates a list based on the sin of our x_axis values\n",
    "sin = np.sin(x_axis)"
   ]
  },
  {
   "cell_type": "code",
   "execution_count": null,
   "metadata": {},
   "outputs": [],
   "source": [
    "# Creates a list based on the cos of our x_axis values\n",
    "cos = np.cos(x_axis)"
   ]
  },
  {
   "cell_type": "code",
   "execution_count": null,
   "metadata": {},
   "outputs": [],
   "source": [
    "# Plot both of these lines so that they will appear on our final chart\n",
    "plt.plot(x_axis, sin)\n",
    "plt.plot(x_axis, cos)\n",
    "\n",
    "plt.show()"
   ]
  },
  {
   "cell_type": "markdown",
   "metadata": {},
   "source": [
    "# Student Turn - 02 - Legendary Temperature - 👩‍🎓👨‍🎓 \n",
    "\n",
    "* In this activity you will expand upon your temperature plots to add a legend.\n",
    "\n",
    "## Instructions\n",
    "\n",
    "* Modify the New Jersey temperature line charts from earlier so that they match the image provided.\n",
    "\n",
    "![model image](./Images/avg_temp.png)\n",
    "\n",
    "* Once the plot has been created, look through the [Matplotlib documentation](https://matplotlib.org/2.0.2/index.html) to see what additional formatting could be added to the chart.\n",
    "\n"
   ]
  },
  {
   "cell_type": "code",
   "execution_count": null,
   "metadata": {},
   "outputs": [],
   "source": [
    "# Include this line to make plots interactive\n",
    "%matplotlib notebook\n",
    "\n",
    "# Dependencies\n",
    "import matplotlib.pyplot as plt\n",
    "import numpy as np\n"
   ]
  },
  {
   "cell_type": "code",
   "execution_count": null,
   "metadata": {},
   "outputs": [],
   "source": [
    "\n",
    "# Create an array for the x axis for the numerical value of each month\n",
    "\n",
    "# Avearge high temperature for each month\n",
    "highs = [39, 42, 51, 62, 72, 82, 86, 84, 77, 65, 55, 44]\n",
    "In [5]:\n",
    "# Avearge low temperature for each month\n",
    "lows = [20, 22, 30, 40, 50, 60, 65, 63, 55, 42, 34, 25]\n",
    "\n",
    "# Plot both of these lines so that they will appear on our final chart.\n",
    "\n",
    "\n",
    "# Create labels for the X and Y axis\n",
    "\n",
    "\n",
    "# Save and display the chart"
   ]
  },
  {
   "cell_type": "code",
   "execution_count": null,
   "metadata": {},
   "outputs": [],
   "source": [
    "\n"
   ]
  },
  {
   "cell_type": "markdown",
   "metadata": {},
   "source": [
    "<details>\n",
    "    <summary><strong>Activity 02 Solution ✅</strong></summary>\n",
    "    \n",
    "```python\n",
    "# Include this line to make plots interactive\n",
    "%matplotlib notebook\n",
    "\n",
    "# Dependencies\n",
    "import matplotlib.pyplot as plt\n",
    "import numpy as np\n",
    "\n",
    "# Create an array for the x axis for the numerical value of each month \n",
    "x_axis = np.arange(1,13,1)\n",
    "x_axis\n",
    "\n",
    "# Avearge high temperature for each month\n",
    "highs = [39, 42, 51, 62, 72, 82, 86, 84, 77, 65, 55, 44]\n",
    "\n",
    "# Avearge low temperature for each month\n",
    "lows = [20, 22, 30, 40, 50, 60, 65, 63, 55, 42, 34, 25]\n",
    "\n",
    "# Plot both of these lines so that they will appear on our final chart.\n",
    "plt.plot(x_axis, lows)\n",
    "plt.plot(x_axis, highs)\n",
    "\n",
    "# Create labels for the X and Y axis\n",
    "plt.xlabel(\"Months\")\n",
    "plt.ylabel(\"Degrees (°F)\")\n",
    "\n",
    "# Save and display the chart\n",
    "plt.savefig(\"avg_temp.png\")\n",
    "plt.show()\n",
    "\n",
    "\n",
    "```\n",
    "</details>"
   ]
  },
  {
   "cell_type": "markdown",
   "metadata": {},
   "source": [
    "# Instructor Turn - 03- Bar Charts - 👩‍🏫🧑‍🏫"
   ]
  },
  {
   "cell_type": "code",
   "execution_count": null,
   "metadata": {},
   "outputs": [],
   "source": [
    "%matplotlib notebook\n",
    "\n",
    "import matplotlib.pyplot as plt\n",
    "import numpy as np\n",
    "\n",
    "# Create an array that contains the number of users each language has\n",
    "users = [13000, 26000, 52000, 30000, 9000]\n",
    "x_axis = np.arange(len(users))\n",
    "\n",
    "# Tell matplotlib that we will be making a bar chart\n",
    "# Users is our y axis and x_axis is, of course, our x axis\n",
    "# We apply align=\"edge\" to ensure our bars line up with our tick marks\n",
    "plt.bar(x_axis, users, color='r', alpha=0.5, align=\"center\")\n"
   ]
  },
  {
   "cell_type": "markdown",
   "metadata": {},
   "source": [
    "# Student Turn - 04 - PyBars - 👩‍🎓👨‍🎓"
   ]
  },
  {
   "cell_type": "markdown",
   "metadata": {},
   "source": [
    "# Bars Bar Chart\n",
    "\n",
    "### Instructions\n",
    "\n",
    "* Using the cells provided as a starter, create a bar chart that matches the image provided."
   ]
  },
  {
   "cell_type": "code",
   "execution_count": null,
   "metadata": {},
   "outputs": [],
   "source": [
    "%matplotlib notebook"
   ]
  },
  {
   "cell_type": "code",
   "execution_count": null,
   "metadata": {},
   "outputs": [],
   "source": [
    "import matplotlib.pyplot as plt\n",
    "import numpy as np"
   ]
  },
  {
   "cell_type": "code",
   "execution_count": null,
   "metadata": {},
   "outputs": [],
   "source": [
    "cities = [\"New Orleans\", \"Milwaukee\", \"Omaha\", \"Pittsburgh\", \"Toledo\"]\n",
    "bars_in_cities = [8.6, 8.5, 8.3, 7.9, 7.2]\n",
    "x_axis = np.arange(len(bars_in_cities))"
   ]
  },
  {
   "cell_type": "code",
   "execution_count": null,
   "metadata": {},
   "outputs": [],
   "source": [
    "# Create a bar chart based upon the above data\n"
   ]
  },
  {
   "cell_type": "code",
   "execution_count": null,
   "metadata": {},
   "outputs": [],
   "source": [
    "# Create the ticks for our bar chart's x axis\n"
   ]
  },
  {
   "cell_type": "code",
   "execution_count": null,
   "metadata": {},
   "outputs": [],
   "source": [
    "# Set the limits of the x axis\n"
   ]
  },
  {
   "cell_type": "code",
   "execution_count": null,
   "metadata": {},
   "outputs": [],
   "source": [
    "# Set the limits of the y axis\n"
   ]
  },
  {
   "cell_type": "code",
   "execution_count": null,
   "metadata": {},
   "outputs": [],
   "source": [
    "# Give the chart a title, x label, and y label\n"
   ]
  },
  {
   "cell_type": "code",
   "execution_count": null,
   "metadata": {},
   "outputs": [],
   "source": [
    "# Save an image of the chart and print it to the screen\n",
    "plt.savefig(\"./output/BarDensity.png\")\n",
    "plt.show()"
   ]
  },
  {
   "cell_type": "markdown",
   "metadata": {},
   "source": [
    "<details>\n",
    "    <summary><strong>Activity 04 Solution ✅</strong></summary>\n",
    "    \n",
    "```python\n",
    "%matplotlib notebook\n",
    "\n",
    "import matplotlib.pyplot as plt\n",
    "import numpy as np\n",
    "\n",
    "cities = [\"New Orleans\", \"Milwaukee\", \"Omaha\", \"Pittsburgh\", \"Toledo\"]\n",
    "bars_in_cities = [8.6, 8.5, 8.3, 7.9, 7.2]\n",
    "x_axis = np.arange(len(bars_in_cities))\n",
    "\n",
    "# Create a bar chart based upon the above data\n",
    "plt.bar(x_axis, bars_in_cities, color=\"b\", align=\"center\")\n",
    "\n",
    "# Create the ticks for our bar chart's x axis\n",
    "tick_locations = [value for value in x_axis]\n",
    "plt.xticks(tick_locations, cities)\n",
    "\n",
    "# Set the limits of the x axis\n",
    "plt.xlim(-0.75, len(x_axis)-0.25)\n",
    "\n",
    "# Set the limits of the y axis\n",
    "plt.ylim(0, max(bars_in_cities)+0.4)\n",
    "\n",
    "# Give the chart a title, x label, and y label\n",
    "plt.title(\"Density of Bars in Cities\")\n",
    "plt.xlabel(\"Cities\")\n",
    "plt.ylabel(\"Bars Per 10,000 Households\")\n",
    "\n",
    "# Save an image of the chart and print it to the screen\n",
    "plt.savefig(\"./BarDensity.png\")\n",
    "plt.show()\n",
    "```\n",
    "</details>\n"
   ]
  },
  {
   "cell_type": "markdown",
   "metadata": {},
   "source": [
    "# Instructor Turn - 05 - Pie Charts - 👩‍🏫🧑‍🏫"
   ]
  },
  {
   "cell_type": "code",
   "execution_count": null,
   "metadata": {},
   "outputs": [],
   "source": [
    "%matplotlib notebook\n",
    "\n",
    "# Import our dependencies\n",
    "import matplotlib.pyplot as plt\n",
    "import numpy as np\n",
    "\n",
    "# Labels for the sections of our pie chart\n",
    "labels = [\"Humans\", \"Smurfs\", \"Hobbits\", \"Ninjas\"]\n",
    "\n",
    "# The values of each section of the pie chart\n",
    "sizes = [220, 95, 80, 100]\n",
    "\n",
    "# The colors of each section of the pie chart\n",
    "colors = [\"red\", \"orange\", \"lightcoral\", \"lightskyblue\"]\n",
    "\n",
    "# Tells matplotlib to seperate the \"Humans\" section from the others\n",
    "explode = (0.1, 0, 0, 0)\n"
   ]
  },
  {
   "cell_type": "code",
   "execution_count": null,
   "metadata": {},
   "outputs": [],
   "source": [
    "# Creates the pie chart based upon the values above\n",
    "# Automatically finds the percentages of each part of the pie chart\n",
    "plt.pie(sizes, explode=explode, labels=labels, colors=colors,\n",
    "        autopct=\"%1.1f%%\", shadow=True, startangle=140)"
   ]
  },
  {
   "cell_type": "code",
   "execution_count": null,
   "metadata": {},
   "outputs": [],
   "source": [
    "# Tells matplotlib that we want a pie chart with equal axes\n",
    "plt.axis(\"equal\")"
   ]
  },
  {
   "cell_type": "markdown",
   "metadata": {},
   "source": [
    "#  Student Turn  - 06 - PyPies - 👩‍🎓👨‍🎓"
   ]
  },
  {
   "cell_type": "markdown",
   "metadata": {},
   "source": [
    "# Pies Pie Chart\n",
    "\n",
    "### Instructions\n",
    "\n",
    "* Using the cells provided as a starter, create a pie chart that matches the image provided.\n"
   ]
  },
  {
   "cell_type": "code",
   "execution_count": null,
   "metadata": {},
   "outputs": [],
   "source": [
    "%matplotlib notebook"
   ]
  },
  {
   "cell_type": "code",
   "execution_count": null,
   "metadata": {},
   "outputs": [],
   "source": [
    "import matplotlib.pyplot as plt\n",
    "import numpy as np"
   ]
  },
  {
   "cell_type": "code",
   "execution_count": null,
   "metadata": {},
   "outputs": [],
   "source": [
    "pies = [\"Apple\", \"Pumpkin\", \"Chocolate Creme\", \"Cherry\", \"Apple Crumb\",\n",
    "        \"Pecan\", \"Lemon Meringue\", \"Blueberry\", \"Key Lime\", \"Peach\"]\n",
    "pie_votes = [47, 37, 32, 27, 25, 24, 24, 21, 18, 16]\n",
    "colors = [\"yellow\", \"green\", \"lightblue\", \"orange\", \"red\",\n",
    "          \"purple\", \"pink\", \"yellowgreen\", \"lightskyblue\", \"lightcoral\"]\n",
    "explode = (0.1, 0, 0, 0, 0, 0, 0, 0, 0, 0)"
   ]
  },
  {
   "cell_type": "code",
   "execution_count": null,
   "metadata": {},
   "outputs": [],
   "source": [
    "# Tell matplotlib to create a pie chart based upon the above data\n",
    "\n",
    "# Create axes which are equal so we have a perfect circle\n",
    "\n",
    "# Save an image of our chart and print the final product to the screen\n",
    "plt.savefig(\"./output/PyPies.png\")\n",
    "plt.show()"
   ]
  },
  {
   "cell_type": "markdown",
   "metadata": {},
   "source": [
    "<details>\n",
    "    <summary><strong>Activity 06 Solution ✅</strong></summary>\n",
    "    \n",
    "```python\n",
    "%matplotlib notebook\n",
    "\n",
    "import matplotlib.pyplot as plt\n",
    "import numpy as np\n",
    "\n",
    "pies = [\"Apple\", \"Pumpkin\", \"Chocolate Creme\", \"Cherry\", \"Apple Crumb\", \"Pecan\", \"Lemon Meringue\", \"Blueberry\", \"Key Lime\", \"Peach\"]\n",
    "pie_votes = [47,37,32,27,25,24,24,21,18,16]\n",
    "colors = [\"yellow\",\"green\",\"lightblue\",\"orange\",\"red\",\"purple\",\"pink\",\"yellowgreen\",\"lightskyblue\",\"lightcoral\"]\n",
    "explode = (0.1,0,0,0,0,0,0,0,0,0)\n",
    "\n",
    "# Tell matplotlib to create a pie chart based upon the above data\n",
    "plt.pie(pie_votes, explode=explode, labels=pies, colors=colors,\n",
    "        autopct=\"%1.1f%%\", shadow=True, startangle=140)\n",
    "# Create axes which are equal so we have a perfect circle\n",
    "plt.axis(\"equal\")\n",
    "# Save an image of our chart and print the final product to the screen\n",
    "plt.savefig(\"./PyPies.png\")\n",
    "plt.show()\n",
    "```\n",
    "</details>\n"
   ]
  },
  {
   "cell_type": "markdown",
   "metadata": {},
   "source": [
    "# Instructor Turn - 07 - Scatter Plots - 👩‍🏫🧑‍🏫"
   ]
  },
  {
   "cell_type": "code",
   "execution_count": null,
   "metadata": {},
   "outputs": [],
   "source": [
    "%matplotlib notebook"
   ]
  },
  {
   "cell_type": "code",
   "execution_count": null,
   "metadata": {},
   "outputs": [],
   "source": [
    "# Import Dependencies\n",
    "import random\n",
    "import matplotlib.pyplot as plt\n",
    "import numpy as np"
   ]
  },
  {
   "cell_type": "code",
   "execution_count": null,
   "metadata": {},
   "outputs": [],
   "source": [
    "# The maximum x value for our chart will be 100\n",
    "x_limit = 100\n",
    "\n",
    "# List of values from 0 to 100 each value being 1 greater than the last\n",
    "x_axis = np.arange(0, x_limit, 1)\n",
    "\n",
    "# Create a random array of data that we will use for our y values\n",
    "data = [random.random() for value in x_axis]"
   ]
  },
  {
   "cell_type": "code",
   "execution_count": null,
   "metadata": {},
   "outputs": [],
   "source": [
    "# Tells matplotlib that we want to make a scatter plot\n",
    "# The size of each point on our plot is determined by their x value\n",
    "plt.scatter(x_axis, data, marker=\"o\", facecolors=\"red\", edgecolors=\"black\",\n",
    "            s=x_axis, alpha=0.75)"
   ]
  },
  {
   "cell_type": "code",
   "execution_count": null,
   "metadata": {},
   "outputs": [],
   "source": [
    "# The y limits of our scatter plot is 0 to 1\n",
    "plt.ylim(0, 1)"
   ]
  },
  {
   "cell_type": "code",
   "execution_count": null,
   "metadata": {},
   "outputs": [],
   "source": [
    "# The x limits of our scatter plot is 0 to 100\n",
    "plt.xlim(0, x_limit)"
   ]
  },
  {
   "cell_type": "code",
   "execution_count": null,
   "metadata": {},
   "outputs": [],
   "source": [
    "# Prints the scatter plot to the screen\n",
    "plt.show()"
   ]
  },
  {
   "cell_type": "markdown",
   "metadata": {},
   "source": [
    "# Student Turn - 08  - ScatterPy - 👩‍🎓👨‍🎓"
   ]
  },
  {
   "cell_type": "markdown",
   "metadata": {},
   "source": [
    "# Scatter Py\n",
    "\n",
    "### Instructions\n",
    "\n",
    "* Using the cells below provided as a starter, create a scatter plot that matches the image provided.\n",
    "\n",
    "### BONUS\n",
    "\n",
    "* Create a new list called \"scoop_price\", fill it with values, and then set it so that the size of the dots are set according to those values.\n"
   ]
  },
  {
   "cell_type": "code",
   "execution_count": null,
   "metadata": {},
   "outputs": [],
   "source": [
    "%matplotlib notebook"
   ]
  },
  {
   "cell_type": "code",
   "execution_count": null,
   "metadata": {},
   "outputs": [],
   "source": [
    "import matplotlib.pyplot as plt\n",
    "import numpy as np"
   ]
  },
  {
   "cell_type": "code",
   "execution_count": null,
   "metadata": {},
   "outputs": [],
   "source": [
    "temp = [14.2, 16.4, 11.9, 15.2, 18.5, 22.1, 19.4, 25.1, 23.4, 18.1, 22.6, 17.2]\n",
    "sales = [215, 325, 185, 332, 406, 522, 412, 614, 544, 421, 445, 408]"
   ]
  },
  {
   "cell_type": "code",
   "execution_count": null,
   "metadata": {},
   "outputs": [],
   "source": [
    "# Tell matplotlib to create a scatter plot based upon the above data\n"
   ]
  },
  {
   "cell_type": "code",
   "execution_count": null,
   "metadata": {},
   "outputs": [],
   "source": [
    "# Set the upper and lower limits of our y axis\n"
   ]
  },
  {
   "cell_type": "code",
   "execution_count": null,
   "metadata": {},
   "outputs": [],
   "source": [
    "# Set the upper and lower limits of our x axis\n"
   ]
  },
  {
   "cell_type": "code",
   "execution_count": null,
   "metadata": {},
   "outputs": [],
   "source": [
    "# Create a title, x label, and y label for our chart\n"
   ]
  },
  {
   "cell_type": "code",
   "execution_count": null,
   "metadata": {},
   "outputs": [],
   "source": [
    "# Save an image of the chart and print to screen\n",
    "# NOTE: If your plot shrinks after saving an image,\n",
    "# update matplotlib to 2.2 or higher,\n",
    "# or simply run the above cells again.\n",
    "plt.savefig(\"./output/IceCreamSales.png\")\n",
    "plt.show()"
   ]
  },
  {
   "cell_type": "code",
   "execution_count": null,
   "metadata": {},
   "outputs": [],
   "source": [
    "# BONUS: With scoop_price set to the scalar value\n",
    "scoop_price = [89, 18, 10, 28, 79, 46, 29, 38, 89, 26, 45, 62]\n",
    "plt.scatter(temp, sales, marker=\"o\", facecolors=\"red\", edgecolors=\"black\", s=scoop_price)"
   ]
  },
  {
   "cell_type": "code",
   "execution_count": null,
   "metadata": {},
   "outputs": [],
   "source": []
  },
  {
   "cell_type": "markdown",
   "metadata": {},
   "source": [
    "<details>\n",
    "    <summary><strong>Activity 08 Solution ✅</strong></summary>\n",
    "    \n",
    "```python\n",
    "\n",
    "%matplotlib notebook\n",
    "\n",
    "import matplotlib.pyplot as plt\n",
    "import numpy as np\n",
    "\n",
    "temp = [14.2, 16.4, 11.9, 15.2, 18.5, 22.1, 19.4, 25.1, 23.4, 18.1, 22.6, 17.2]\n",
    "sales = [215, 325, 185, 332, 406, 522, 412, 614, 544, 421, 445, 408]\n",
    "\n",
    "# Tell matplotlib to create a scatter plot based upon the above data\n",
    "\n",
    "# Without scoop_price\n",
    "plt.scatter(temp, sales, marker=\"o\", facecolors=\"red\", edgecolors=\"black\")\n",
    "\n",
    "# BONUS: With scoop_price set to the scalar value\n",
    "# scoop_price = [89, 18, 10, 28, 79, 46, 29, 38, 89, 26, 45, 62]\n",
    "# plt.scatter(temp, sales, marker=\"o\", facecolors=\"red\", edgecolors=\"black\", s=scoop_price)\n",
    "\n",
    "\n",
    "# Set the upper and lower limits of our y axis\n",
    "plt.ylim(100,620)\n",
    "\n",
    "# Set the upper and lower limits of our x axis\n",
    "plt.xlim(11,26)\n",
    "\n",
    "# Create a title, x label, and y label for our chart\n",
    "plt.title(\"Ice Cream Sales v Temperature\")\n",
    "plt.xlabel(\"Temperature (Celsius)\")\n",
    "plt.ylabel(\"Sales (Dollars)\")\n",
    "\n",
    "# Save an image of the chart and print to screen\n",
    "# NOTE: If your plot shrinks after saving an image,\n",
    "# update matplotlib to 2.2 or higher,\n",
    "# or simply run the above cells again.\n",
    "plt.savefig(\"./IceCreamSales.png\")\n",
    "plt.show()\n",
    "\n",
    "\n",
    "```\n",
    "</details>\n"
   ]
  }
 ],
 "metadata": {
  "kernelspec": {
   "display_name": "Python 3",
   "language": "python",
   "name": "python3"
  },
  "language_info": {
   "codemirror_mode": {
    "name": "ipython",
    "version": 3
   },
   "file_extension": ".py",
   "mimetype": "text/x-python",
   "name": "python",
   "nbconvert_exporter": "python",
   "pygments_lexer": "ipython3",
   "version": "3.7.6"
  }
 },
 "nbformat": 4,
 "nbformat_minor": 4
}
